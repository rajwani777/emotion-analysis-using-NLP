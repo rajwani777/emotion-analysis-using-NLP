{
 "cells": [
  {
   "cell_type": "code",
   "execution_count": 1,
   "id": "28c0c389",
   "metadata": {
    "execution": {
     "iopub.execute_input": "2022-06-18T19:06:21.691886Z",
     "iopub.status.busy": "2022-06-18T19:06:21.691287Z",
     "iopub.status.idle": "2022-06-18T19:06:23.632590Z",
     "shell.execute_reply": "2022-06-18T19:06:23.631360Z"
    },
    "papermill": {
     "duration": 1.955342,
     "end_time": "2022-06-18T19:06:23.635228",
     "exception": false,
     "start_time": "2022-06-18T19:06:21.679886",
     "status": "completed"
    },
    "tags": []
   },
   "outputs": [
    {
     "name": "stdout",
     "output_type": "stream",
     "text": [
      "[nltk_data] Downloading package stopwords to /usr/share/nltk_data...\n",
      "[nltk_data]   Package stopwords is already up-to-date!\n"
     ]
    },
    {
     "data": {
      "text/plain": [
       "True"
      ]
     },
     "execution_count": 1,
     "metadata": {},
     "output_type": "execute_result"
    }
   ],
   "source": [
    "import pandas as pd\n",
    "import numpy as np\n",
    "import textblob\n",
    "import nltk\n",
    "\n",
    "import re\n",
    "from nltk.corpus import stopwords\n",
    "import seaborn as sns\n",
    "import matplotlib.pyplot as plt\n",
    "nltk.download('stopwords')"
   ]
  },
  {
   "cell_type": "code",
   "execution_count": 2,
   "id": "b58e801e",
   "metadata": {
    "execution": {
     "iopub.execute_input": "2022-06-18T19:06:23.655062Z",
     "iopub.status.busy": "2022-06-18T19:06:23.654223Z",
     "iopub.status.idle": "2022-06-18T19:06:23.721469Z",
     "shell.execute_reply": "2022-06-18T19:06:23.720655Z"
    },
    "papermill": {
     "duration": 0.079338,
     "end_time": "2022-06-18T19:06:23.723654",
     "exception": false,
     "start_time": "2022-06-18T19:06:23.644316",
     "status": "completed"
    },
    "tags": []
   },
   "outputs": [],
   "source": [
    "data =pd.read_csv('../input/emotional-data/Emotion analysis using NLP -code/dataset/train.txt',sep = ';',names = ['Input','Sentiment'],encoding='utf-8')"
   ]
  },
  {
   "cell_type": "code",
   "execution_count": 3,
   "id": "4c947d3b",
   "metadata": {
    "execution": {
     "iopub.execute_input": "2022-06-18T19:06:23.743684Z",
     "iopub.status.busy": "2022-06-18T19:06:23.743161Z",
     "iopub.status.idle": "2022-06-18T19:06:23.760107Z",
     "shell.execute_reply": "2022-06-18T19:06:23.759470Z"
    },
    "papermill": {
     "duration": 0.029075,
     "end_time": "2022-06-18T19:06:23.761783",
     "exception": false,
     "start_time": "2022-06-18T19:06:23.732708",
     "status": "completed"
    },
    "tags": []
   },
   "outputs": [
    {
     "data": {
      "text/html": [
       "<div>\n",
       "<style scoped>\n",
       "    .dataframe tbody tr th:only-of-type {\n",
       "        vertical-align: middle;\n",
       "    }\n",
       "\n",
       "    .dataframe tbody tr th {\n",
       "        vertical-align: top;\n",
       "    }\n",
       "\n",
       "    .dataframe thead th {\n",
       "        text-align: right;\n",
       "    }\n",
       "</style>\n",
       "<table border=\"1\" class=\"dataframe\">\n",
       "  <thead>\n",
       "    <tr style=\"text-align: right;\">\n",
       "      <th></th>\n",
       "      <th>Input</th>\n",
       "      <th>Sentiment</th>\n",
       "    </tr>\n",
       "  </thead>\n",
       "  <tbody>\n",
       "    <tr>\n",
       "      <th>0</th>\n",
       "      <td>i didnt feel humiliated</td>\n",
       "      <td>sadness</td>\n",
       "    </tr>\n",
       "    <tr>\n",
       "      <th>1</th>\n",
       "      <td>i can go from feeling so hopeless to so damned...</td>\n",
       "      <td>sadness</td>\n",
       "    </tr>\n",
       "    <tr>\n",
       "      <th>2</th>\n",
       "      <td>im grabbing a minute to post i feel greedy wrong</td>\n",
       "      <td>anger</td>\n",
       "    </tr>\n",
       "    <tr>\n",
       "      <th>3</th>\n",
       "      <td>i am ever feeling nostalgic about the fireplac...</td>\n",
       "      <td>love</td>\n",
       "    </tr>\n",
       "    <tr>\n",
       "      <th>4</th>\n",
       "      <td>i am feeling grouchy</td>\n",
       "      <td>anger</td>\n",
       "    </tr>\n",
       "    <tr>\n",
       "      <th>...</th>\n",
       "      <td>...</td>\n",
       "      <td>...</td>\n",
       "    </tr>\n",
       "    <tr>\n",
       "      <th>15995</th>\n",
       "      <td>i just had a very brief time in the beanbag an...</td>\n",
       "      <td>sadness</td>\n",
       "    </tr>\n",
       "    <tr>\n",
       "      <th>15996</th>\n",
       "      <td>i am now turning and i feel pathetic that i am...</td>\n",
       "      <td>sadness</td>\n",
       "    </tr>\n",
       "    <tr>\n",
       "      <th>15997</th>\n",
       "      <td>i feel strong and good overall</td>\n",
       "      <td>joy</td>\n",
       "    </tr>\n",
       "    <tr>\n",
       "      <th>15998</th>\n",
       "      <td>i feel like this was such a rude comment and i...</td>\n",
       "      <td>anger</td>\n",
       "    </tr>\n",
       "    <tr>\n",
       "      <th>15999</th>\n",
       "      <td>i know a lot but i feel so stupid because i ca...</td>\n",
       "      <td>sadness</td>\n",
       "    </tr>\n",
       "  </tbody>\n",
       "</table>\n",
       "<p>16000 rows × 2 columns</p>\n",
       "</div>"
      ],
      "text/plain": [
       "                                                   Input Sentiment\n",
       "0                                i didnt feel humiliated   sadness\n",
       "1      i can go from feeling so hopeless to so damned...   sadness\n",
       "2       im grabbing a minute to post i feel greedy wrong     anger\n",
       "3      i am ever feeling nostalgic about the fireplac...      love\n",
       "4                                   i am feeling grouchy     anger\n",
       "...                                                  ...       ...\n",
       "15995  i just had a very brief time in the beanbag an...   sadness\n",
       "15996  i am now turning and i feel pathetic that i am...   sadness\n",
       "15997                     i feel strong and good overall       joy\n",
       "15998  i feel like this was such a rude comment and i...     anger\n",
       "15999  i know a lot but i feel so stupid because i ca...   sadness\n",
       "\n",
       "[16000 rows x 2 columns]"
      ]
     },
     "execution_count": 3,
     "metadata": {},
     "output_type": "execute_result"
    }
   ],
   "source": [
    "data"
   ]
  },
  {
   "cell_type": "code",
   "execution_count": 4,
   "id": "93a994b7",
   "metadata": {
    "execution": {
     "iopub.execute_input": "2022-06-18T19:06:23.782138Z",
     "iopub.status.busy": "2022-06-18T19:06:23.781557Z",
     "iopub.status.idle": "2022-06-18T19:06:23.793713Z",
     "shell.execute_reply": "2022-06-18T19:06:23.793110Z"
    },
    "papermill": {
     "duration": 0.024112,
     "end_time": "2022-06-18T19:06:23.795385",
     "exception": false,
     "start_time": "2022-06-18T19:06:23.771273",
     "status": "completed"
    },
    "tags": []
   },
   "outputs": [
    {
     "data": {
      "text/plain": [
       "array(['sadness', 'anger', 'love', 'surprise', 'fear', 'joy'],\n",
       "      dtype=object)"
      ]
     },
     "execution_count": 4,
     "metadata": {},
     "output_type": "execute_result"
    }
   ],
   "source": [
    "data.Sentiment.unique()"
   ]
  },
  {
   "cell_type": "code",
   "execution_count": 5,
   "id": "548b1737",
   "metadata": {
    "execution": {
     "iopub.execute_input": "2022-06-18T19:06:23.815548Z",
     "iopub.status.busy": "2022-06-18T19:06:23.814960Z",
     "iopub.status.idle": "2022-06-18T19:06:23.835018Z",
     "shell.execute_reply": "2022-06-18T19:06:23.834382Z"
    },
    "papermill": {
     "duration": 0.032324,
     "end_time": "2022-06-18T19:06:23.837020",
     "exception": false,
     "start_time": "2022-06-18T19:06:23.804696",
     "status": "completed"
    },
    "tags": []
   },
   "outputs": [],
   "source": [
    "data['Sentiment'].replace('anger', 0,inplace =True)\n",
    "data['Sentiment'].replace('fear', 1,inplace =True)\n",
    "data['Sentiment'].replace('joy', 2,inplace =True)\n",
    "data['Sentiment'].replace('love', 3,inplace =True)\n",
    "data['Sentiment'].replace('sadness', 4,inplace =True)\n",
    "data['Sentiment'].replace('surprise', 5,inplace =True)"
   ]
  },
  {
   "cell_type": "code",
   "execution_count": 6,
   "id": "68b734c6",
   "metadata": {
    "execution": {
     "iopub.execute_input": "2022-06-18T19:06:23.859121Z",
     "iopub.status.busy": "2022-06-18T19:06:23.858541Z",
     "iopub.status.idle": "2022-06-18T19:06:23.868403Z",
     "shell.execute_reply": "2022-06-18T19:06:23.867807Z"
    },
    "papermill": {
     "duration": 0.023658,
     "end_time": "2022-06-18T19:06:23.870100",
     "exception": false,
     "start_time": "2022-06-18T19:06:23.846442",
     "status": "completed"
    },
    "tags": []
   },
   "outputs": [
    {
     "data": {
      "text/html": [
       "<div>\n",
       "<style scoped>\n",
       "    .dataframe tbody tr th:only-of-type {\n",
       "        vertical-align: middle;\n",
       "    }\n",
       "\n",
       "    .dataframe tbody tr th {\n",
       "        vertical-align: top;\n",
       "    }\n",
       "\n",
       "    .dataframe thead th {\n",
       "        text-align: right;\n",
       "    }\n",
       "</style>\n",
       "<table border=\"1\" class=\"dataframe\">\n",
       "  <thead>\n",
       "    <tr style=\"text-align: right;\">\n",
       "      <th></th>\n",
       "      <th>Input</th>\n",
       "      <th>Sentiment</th>\n",
       "    </tr>\n",
       "  </thead>\n",
       "  <tbody>\n",
       "    <tr>\n",
       "      <th>0</th>\n",
       "      <td>i didnt feel humiliated</td>\n",
       "      <td>4</td>\n",
       "    </tr>\n",
       "    <tr>\n",
       "      <th>1</th>\n",
       "      <td>i can go from feeling so hopeless to so damned...</td>\n",
       "      <td>4</td>\n",
       "    </tr>\n",
       "    <tr>\n",
       "      <th>2</th>\n",
       "      <td>im grabbing a minute to post i feel greedy wrong</td>\n",
       "      <td>0</td>\n",
       "    </tr>\n",
       "    <tr>\n",
       "      <th>3</th>\n",
       "      <td>i am ever feeling nostalgic about the fireplac...</td>\n",
       "      <td>3</td>\n",
       "    </tr>\n",
       "    <tr>\n",
       "      <th>4</th>\n",
       "      <td>i am feeling grouchy</td>\n",
       "      <td>0</td>\n",
       "    </tr>\n",
       "    <tr>\n",
       "      <th>...</th>\n",
       "      <td>...</td>\n",
       "      <td>...</td>\n",
       "    </tr>\n",
       "    <tr>\n",
       "      <th>15995</th>\n",
       "      <td>i just had a very brief time in the beanbag an...</td>\n",
       "      <td>4</td>\n",
       "    </tr>\n",
       "    <tr>\n",
       "      <th>15996</th>\n",
       "      <td>i am now turning and i feel pathetic that i am...</td>\n",
       "      <td>4</td>\n",
       "    </tr>\n",
       "    <tr>\n",
       "      <th>15997</th>\n",
       "      <td>i feel strong and good overall</td>\n",
       "      <td>2</td>\n",
       "    </tr>\n",
       "    <tr>\n",
       "      <th>15998</th>\n",
       "      <td>i feel like this was such a rude comment and i...</td>\n",
       "      <td>0</td>\n",
       "    </tr>\n",
       "    <tr>\n",
       "      <th>15999</th>\n",
       "      <td>i know a lot but i feel so stupid because i ca...</td>\n",
       "      <td>4</td>\n",
       "    </tr>\n",
       "  </tbody>\n",
       "</table>\n",
       "<p>16000 rows × 2 columns</p>\n",
       "</div>"
      ],
      "text/plain": [
       "                                                   Input  Sentiment\n",
       "0                                i didnt feel humiliated          4\n",
       "1      i can go from feeling so hopeless to so damned...          4\n",
       "2       im grabbing a minute to post i feel greedy wrong          0\n",
       "3      i am ever feeling nostalgic about the fireplac...          3\n",
       "4                                   i am feeling grouchy          0\n",
       "...                                                  ...        ...\n",
       "15995  i just had a very brief time in the beanbag an...          4\n",
       "15996  i am now turning and i feel pathetic that i am...          4\n",
       "15997                     i feel strong and good overall          2\n",
       "15998  i feel like this was such a rude comment and i...          0\n",
       "15999  i know a lot but i feel so stupid because i ca...          4\n",
       "\n",
       "[16000 rows x 2 columns]"
      ]
     },
     "execution_count": 6,
     "metadata": {},
     "output_type": "execute_result"
    }
   ],
   "source": [
    "data"
   ]
  },
  {
   "cell_type": "code",
   "execution_count": 7,
   "id": "c78927e3",
   "metadata": {
    "execution": {
     "iopub.execute_input": "2022-06-18T19:06:23.891083Z",
     "iopub.status.busy": "2022-06-18T19:06:23.890345Z",
     "iopub.status.idle": "2022-06-18T19:06:23.899017Z",
     "shell.execute_reply": "2022-06-18T19:06:23.898120Z"
    },
    "papermill": {
     "duration": 0.021145,
     "end_time": "2022-06-18T19:06:23.901057",
     "exception": false,
     "start_time": "2022-06-18T19:06:23.879912",
     "status": "completed"
    },
    "tags": []
   },
   "outputs": [
    {
     "data": {
      "text/plain": [
       "2    5362\n",
       "4    4666\n",
       "0    2159\n",
       "1    1937\n",
       "3    1304\n",
       "5     572\n",
       "Name: Sentiment, dtype: int64"
      ]
     },
     "execution_count": 7,
     "metadata": {},
     "output_type": "execute_result"
    }
   ],
   "source": [
    "data.Sentiment.value_counts()"
   ]
  },
  {
   "cell_type": "code",
   "execution_count": 8,
   "id": "0cf77fb6",
   "metadata": {
    "execution": {
     "iopub.execute_input": "2022-06-18T19:06:23.921486Z",
     "iopub.status.busy": "2022-06-18T19:06:23.921107Z",
     "iopub.status.idle": "2022-06-18T19:06:24.127335Z",
     "shell.execute_reply": "2022-06-18T19:06:24.126445Z"
    },
    "papermill": {
     "duration": 0.218613,
     "end_time": "2022-06-18T19:06:24.129268",
     "exception": false,
     "start_time": "2022-06-18T19:06:23.910655",
     "status": "completed"
    },
    "tags": []
   },
   "outputs": [
    {
     "name": "stderr",
     "output_type": "stream",
     "text": [
      "/opt/conda/lib/python3.7/site-packages/seaborn/_decorators.py:43: FutureWarning: Pass the following variable as a keyword arg: x. From version 0.12, the only valid positional argument will be `data`, and passing other arguments without an explicit keyword will result in an error or misinterpretation.\n",
      "  FutureWarning\n"
     ]
    },
    {
     "data": {
      "text/plain": [
       "<AxesSubplot:xlabel='Sentiment', ylabel='count'>"
      ]
     },
     "execution_count": 8,
     "metadata": {},
     "output_type": "execute_result"
    },
    {
     "data": {
      "image/png": "[encoded data removed]",
      "text/plain": [
       "<Figure size 432x288 with 1 Axes>"
      ]
     },
     "metadata": {
      "needs_background": "light"
     },
     "output_type": "display_data"
    }
   ],
   "source": [
    "sns.countplot((data['Sentiment']))"
   ]
  },
  {
   "cell_type": "code",
   "execution_count": 9,
   "id": "ae67ca0f",
   "metadata": {
    "execution": {
     "iopub.execute_input": "2022-06-18T19:06:24.151051Z",
     "iopub.status.busy": "2022-06-18T19:06:24.150664Z",
     "iopub.status.idle": "2022-06-18T19:06:24.166887Z",
     "shell.execute_reply": "2022-06-18T19:06:24.165977Z"
    },
    "papermill": {
     "duration": 0.029919,
     "end_time": "2022-06-18T19:06:24.169203",
     "exception": false,
     "start_time": "2022-06-18T19:06:24.139284",
     "status": "completed"
    },
    "tags": []
   },
   "outputs": [
    {
     "name": "stdout",
     "output_type": "stream",
     "text": [
      "<class 'pandas.core.frame.DataFrame'>\n",
      "RangeIndex: 16000 entries, 0 to 15999\n",
      "Data columns (total 2 columns):\n",
      " #   Column     Non-Null Count  Dtype \n",
      "---  ------     --------------  ----- \n",
      " 0   Input      16000 non-null  object\n",
      " 1   Sentiment  16000 non-null  int64 \n",
      "dtypes: int64(1), object(1)\n",
      "memory usage: 250.1+ KB\n"
     ]
    }
   ],
   "source": [
    "data.info()"
   ]
  },
  {
   "cell_type": "code",
   "execution_count": 10,
   "id": "b2055535",
   "metadata": {
    "execution": {
     "iopub.execute_input": "2022-06-18T19:06:24.191930Z",
     "iopub.status.busy": "2022-06-18T19:06:24.190669Z",
     "iopub.status.idle": "2022-06-18T19:06:24.196187Z",
     "shell.execute_reply": "2022-06-18T19:06:24.195466Z"
    },
    "papermill": {
     "duration": 0.018639,
     "end_time": "2022-06-18T19:06:24.198011",
     "exception": false,
     "start_time": "2022-06-18T19:06:24.179372",
     "status": "completed"
    },
    "tags": []
   },
   "outputs": [],
   "source": [
    "x= data.Input\n",
    "y= data.Sentiment"
   ]
  },
  {
   "cell_type": "code",
   "execution_count": 11,
   "id": "4c542259",
   "metadata": {
    "execution": {
     "iopub.execute_input": "2022-06-18T19:06:24.220545Z",
     "iopub.status.busy": "2022-06-18T19:06:24.220132Z",
     "iopub.status.idle": "2022-06-18T19:06:24.224471Z",
     "shell.execute_reply": "2022-06-18T19:06:24.223630Z"
    },
    "papermill": {
     "duration": 0.017622,
     "end_time": "2022-06-18T19:06:24.226264",
     "exception": false,
     "start_time": "2022-06-18T19:06:24.208642",
     "status": "completed"
    },
    "tags": []
   },
   "outputs": [],
   "source": [
    "y.shape\n",
    "y=np.array(y)"
   ]
  },
  {
   "cell_type": "code",
   "execution_count": 12,
   "id": "9a9626aa",
   "metadata": {
    "execution": {
     "iopub.execute_input": "2022-06-18T19:06:24.248706Z",
     "iopub.status.busy": "2022-06-18T19:06:24.248297Z",
     "iopub.status.idle": "2022-06-18T19:06:24.253376Z",
     "shell.execute_reply": "2022-06-18T19:06:24.252761Z"
    },
    "papermill": {
     "duration": 0.018374,
     "end_time": "2022-06-18T19:06:24.255034",
     "exception": false,
     "start_time": "2022-06-18T19:06:24.236660",
     "status": "completed"
    },
    "tags": []
   },
   "outputs": [
    {
     "data": {
      "text/plain": [
       "array([4, 4, 0, ..., 2, 0, 4])"
      ]
     },
     "execution_count": 12,
     "metadata": {},
     "output_type": "execute_result"
    }
   ],
   "source": [
    "y"
   ]
  },
  {
   "cell_type": "code",
   "execution_count": 13,
   "id": "a9fcb646",
   "metadata": {
    "execution": {
     "iopub.execute_input": "2022-06-18T19:06:24.277235Z",
     "iopub.status.busy": "2022-06-18T19:06:24.276654Z",
     "iopub.status.idle": "2022-06-18T19:06:24.280180Z",
     "shell.execute_reply": "2022-06-18T19:06:24.279612Z"
    },
    "papermill": {
     "duration": 0.016593,
     "end_time": "2022-06-18T19:06:24.281817",
     "exception": false,
     "start_time": "2022-06-18T19:06:24.265224",
     "status": "completed"
    },
    "tags": []
   },
   "outputs": [],
   "source": [
    "from nltk.stem.porter import PorterStemmer\n",
    "ps =PorterStemmer()"
   ]
  },
  {
   "cell_type": "code",
   "execution_count": null,
   "id": "ea3b488b",
   "metadata": {
    "papermill": {
     "duration": 0.009804,
     "end_time": "2022-06-18T19:06:24.302020",
     "exception": false,
     "start_time": "2022-06-18T19:06:24.292216",
     "status": "completed"
    },
    "tags": []
   },
   "outputs": [],
   "source": []
  },
  {
   "cell_type": "code",
   "execution_count": 14,
   "id": "04fc5c17",
   "metadata": {
    "execution": {
     "iopub.execute_input": "2022-06-18T19:06:24.324336Z",
     "iopub.status.busy": "2022-06-18T19:06:24.323712Z",
     "iopub.status.idle": "2022-06-18T19:06:24.329353Z",
     "shell.execute_reply": "2022-06-18T19:06:24.328484Z"
    },
    "papermill": {
     "duration": 0.018985,
     "end_time": "2022-06-18T19:06:24.331282",
     "exception": false,
     "start_time": "2022-06-18T19:06:24.312297",
     "status": "completed"
    },
    "tags": []
   },
   "outputs": [
    {
     "data": {
      "text/plain": [
       "16000"
      ]
     },
     "execution_count": 14,
     "metadata": {},
     "output_type": "execute_result"
    }
   ],
   "source": [
    "len(data)"
   ]
  },
  {
   "cell_type": "code",
   "execution_count": 15,
   "id": "be8cacf8",
   "metadata": {
    "execution": {
     "iopub.execute_input": "2022-06-18T19:06:24.354016Z",
     "iopub.status.busy": "2022-06-18T19:06:24.353294Z",
     "iopub.status.idle": "2022-06-18T19:07:10.996926Z",
     "shell.execute_reply": "2022-06-18T19:07:10.995990Z"
    },
    "papermill": {
     "duration": 46.657769,
     "end_time": "2022-06-18T19:07:10.999482",
     "exception": false,
     "start_time": "2022-06-18T19:06:24.341713",
     "status": "completed"
    },
    "tags": []
   },
   "outputs": [],
   "source": [
    "words =[]\n",
    "for i in range(0,len(x)):\n",
    "    word = re.sub('[^a-zA-Z]', ' ',x[i])\n",
    "    word = word.lower()\n",
    "    word = word.split()\n",
    "    word = [ps.stem(text) for text in word if not text in stopwords.words('english') ]\n",
    "    \n",
    "    word = ' '.join(word)\n",
    "    words.append(word)\n",
    "    "
   ]
  },
  {
   "cell_type": "code",
   "execution_count": 16,
   "id": "daac34e4",
   "metadata": {
    "execution": {
     "iopub.execute_input": "2022-06-18T19:07:11.022673Z",
     "iopub.status.busy": "2022-06-18T19:07:11.022237Z",
     "iopub.status.idle": "2022-06-18T19:07:11.032546Z",
     "shell.execute_reply": "2022-06-18T19:07:11.031757Z"
    },
    "papermill": {
     "duration": 0.024153,
     "end_time": "2022-06-18T19:07:11.034597",
     "exception": false,
     "start_time": "2022-06-18T19:07:11.010444",
     "status": "completed"
    },
    "tags": []
   },
   "outputs": [],
   "source": [
    "\n",
    "from keras_preprocessing.text import one_hot\n",
    "from keras_preprocessing.sequence import pad_sequences"
   ]
  },
  {
   "cell_type": "code",
   "execution_count": 17,
   "id": "95ef2c3b",
   "metadata": {
    "execution": {
     "iopub.execute_input": "2022-06-18T19:07:11.058986Z",
     "iopub.status.busy": "2022-06-18T19:07:11.058388Z",
     "iopub.status.idle": "2022-06-18T19:07:11.063286Z",
     "shell.execute_reply": "2022-06-18T19:07:11.062489Z"
    },
    "papermill": {
     "duration": 0.019442,
     "end_time": "2022-06-18T19:07:11.065264",
     "exception": false,
     "start_time": "2022-06-18T19:07:11.045822",
     "status": "completed"
    },
    "tags": []
   },
   "outputs": [
    {
     "data": {
      "text/plain": [
       "<function keras_preprocessing.text.one_hot(text, n, filters='!\"#$%&()*+,-./:;<=>?@[\\\\]^_`{|}~\\t\\n', lower=True, split=' ')>"
      ]
     },
     "execution_count": 17,
     "metadata": {},
     "output_type": "execute_result"
    }
   ],
   "source": [
    "one_hot"
   ]
  },
  {
   "cell_type": "code",
   "execution_count": 18,
   "id": "899f332a",
   "metadata": {
    "execution": {
     "iopub.execute_input": "2022-06-18T19:07:11.088948Z",
     "iopub.status.busy": "2022-06-18T19:07:11.088283Z",
     "iopub.status.idle": "2022-06-18T19:07:11.310994Z",
     "shell.execute_reply": "2022-06-18T19:07:11.309928Z"
    },
    "papermill": {
     "duration": 0.237452,
     "end_time": "2022-06-18T19:07:11.313477",
     "exception": false,
     "start_time": "2022-06-18T19:07:11.076025",
     "status": "completed"
    },
    "tags": []
   },
   "outputs": [],
   "source": [
    "one_hot_representation = [one_hot(value, 10000, filters='!\"#$%&()*+,-./:;<=>?@[\\\\]^_`{|}~\\t\\n', lower=True,) for value in words]"
   ]
  },
  {
   "cell_type": "code",
   "execution_count": 19,
   "id": "177346e0",
   "metadata": {
    "execution": {
     "iopub.execute_input": "2022-06-18T19:07:11.335810Z",
     "iopub.status.busy": "2022-06-18T19:07:11.335405Z",
     "iopub.status.idle": "2022-06-18T19:07:11.341578Z",
     "shell.execute_reply": "2022-06-18T19:07:11.340579Z"
    },
    "papermill": {
     "duration": 0.020997,
     "end_time": "2022-06-18T19:07:11.345006",
     "exception": false,
     "start_time": "2022-06-18T19:07:11.324009",
     "status": "completed"
    },
    "tags": []
   },
   "outputs": [
    {
     "data": {
      "text/plain": [
       "[3276, 2032, 7427]"
      ]
     },
     "execution_count": 19,
     "metadata": {},
     "output_type": "execute_result"
    }
   ],
   "source": [
    "one_hot_representation[0]"
   ]
  },
  {
   "cell_type": "code",
   "execution_count": 20,
   "id": "3f173d72",
   "metadata": {
    "execution": {
     "iopub.execute_input": "2022-06-18T19:07:11.368268Z",
     "iopub.status.busy": "2022-06-18T19:07:11.367727Z",
     "iopub.status.idle": "2022-06-18T19:07:11.443247Z",
     "shell.execute_reply": "2022-06-18T19:07:11.442500Z"
    },
    "papermill": {
     "duration": 0.089674,
     "end_time": "2022-06-18T19:07:11.445353",
     "exception": false,
     "start_time": "2022-06-18T19:07:11.355679",
     "status": "completed"
    },
    "tags": []
   },
   "outputs": [],
   "source": [
    "padding = pad_sequences(one_hot_representation,padding ='pre', maxlen = 30)"
   ]
  },
  {
   "cell_type": "code",
   "execution_count": 21,
   "id": "c97e29e2",
   "metadata": {
    "execution": {
     "iopub.execute_input": "2022-06-18T19:07:11.468270Z",
     "iopub.status.busy": "2022-06-18T19:07:11.467719Z",
     "iopub.status.idle": "2022-06-18T19:07:11.473555Z",
     "shell.execute_reply": "2022-06-18T19:07:11.472577Z"
    },
    "papermill": {
     "duration": 0.01954,
     "end_time": "2022-06-18T19:07:11.475527",
     "exception": false,
     "start_time": "2022-06-18T19:07:11.455987",
     "status": "completed"
    },
    "tags": []
   },
   "outputs": [
    {
     "data": {
      "text/plain": [
       "(16000, 30)"
      ]
     },
     "execution_count": 21,
     "metadata": {},
     "output_type": "execute_result"
    }
   ],
   "source": [
    "padding.shape"
   ]
  },
  {
   "cell_type": "code",
   "execution_count": 22,
   "id": "c2ac8594",
   "metadata": {
    "execution": {
     "iopub.execute_input": "2022-06-18T19:07:11.498966Z",
     "iopub.status.busy": "2022-06-18T19:07:11.498566Z",
     "iopub.status.idle": "2022-06-18T19:07:17.099129Z",
     "shell.execute_reply": "2022-06-18T19:07:17.098159Z"
    },
    "papermill": {
     "duration": 5.614974,
     "end_time": "2022-06-18T19:07:17.101539",
     "exception": false,
     "start_time": "2022-06-18T19:07:11.486565",
     "status": "completed"
    },
    "tags": []
   },
   "outputs": [],
   "source": [
    "from keras.models import Sequential\n",
    "from keras.layers import LSTM,Dense,Dropout,Embedding,Bidirectional"
   ]
  },
  {
   "cell_type": "code",
   "execution_count": 23,
   "id": "73c6e78e",
   "metadata": {
    "execution": {
     "iopub.execute_input": "2022-06-18T19:07:17.125838Z",
     "iopub.status.busy": "2022-06-18T19:07:17.125092Z",
     "iopub.status.idle": "2022-06-18T19:07:17.788206Z",
     "shell.execute_reply": "2022-06-18T19:07:17.786847Z"
    },
    "papermill": {
     "duration": 0.678255,
     "end_time": "2022-06-18T19:07:17.791078",
     "exception": false,
     "start_time": "2022-06-18T19:07:17.112823",
     "status": "completed"
    },
    "tags": []
   },
   "outputs": [
    {
     "name": "stderr",
     "output_type": "stream",
     "text": [
      "2022-06-18 19:07:17.165250: I tensorflow/core/common_runtime/process_util.cc:146] Creating new thread pool with default inter op setting: 2. Tune using inter_op_parallelism_threads for best performance.\n"
     ]
    },
    {
     "name": "stdout",
     "output_type": "stream",
     "text": [
      "Model: \"sequential\"\n",
      "_________________________________________________________________\n",
      "Layer (type)                 Output Shape              Param #   \n",
      "=================================================================\n",
      "embedding (Embedding)        (None, 20, 40)            400000    \n",
      "_________________________________________________________________\n",
      "bidirectional (Bidirectional (None, 200)               112800    \n",
      "_________________________________________________________________\n",
      "dense (Dense)                (None, 6)                 1206      \n",
      "=================================================================\n",
      "Total params: 514,006\n",
      "Trainable params: 514,006\n",
      "Non-trainable params: 0\n",
      "_________________________________________________________________\n"
     ]
    }
   ],
   "source": [
    "model = Sequential()\n",
    "model.add(Embedding(10000,40, input_length = 20))\n",
    "model.add(Bidirectional(LSTM(100)))\n",
    "model.add(Dense(6,activation ='relu'))\n",
    "model.compile(loss='sparse_categorical_crossentropy',optimizer = 'adam',metrics = ['accuracy'])\n",
    "\n",
    "model.summary()"
   ]
  },
  {
   "cell_type": "code",
   "execution_count": 24,
   "id": "09eaced4",
   "metadata": {
    "execution": {
     "iopub.execute_input": "2022-06-18T19:07:17.821266Z",
     "iopub.status.busy": "2022-06-18T19:07:17.820459Z",
     "iopub.status.idle": "2022-06-18T19:07:18.855275Z",
     "shell.execute_reply": "2022-06-18T19:07:18.854455Z"
    },
    "papermill": {
     "duration": 1.051845,
     "end_time": "2022-06-18T19:07:18.857343",
     "exception": false,
     "start_time": "2022-06-18T19:07:17.805498",
     "status": "completed"
    },
    "tags": []
   },
   "outputs": [
    {
     "data": {
      "image/png": "[encoded data removed]",
      "text/plain": [
       "<IPython.core.display.Image object>"
      ]
     },
     "execution_count": 24,
     "metadata": {},
     "output_type": "execute_result"
    }
   ],
   "source": [
    "from keras.utils.vis_utils import plot_model\n",
    "plot_model(model)"
   ]
  },
  {
   "cell_type": "code",
   "execution_count": 25,
   "id": "fa7ab835",
   "metadata": {
    "execution": {
     "iopub.execute_input": "2022-06-18T19:07:18.883373Z",
     "iopub.status.busy": "2022-06-18T19:07:18.882757Z",
     "iopub.status.idle": "2022-06-18T19:07:18.888950Z",
     "shell.execute_reply": "2022-06-18T19:07:18.888307Z"
    },
    "papermill": {
     "duration": 0.021274,
     "end_time": "2022-06-18T19:07:18.890802",
     "exception": false,
     "start_time": "2022-06-18T19:07:18.869528",
     "status": "completed"
    },
    "tags": []
   },
   "outputs": [],
   "source": [
    "input_data = np.array(padding)\n",
    "output_data = y"
   ]
  },
  {
   "cell_type": "code",
   "execution_count": 26,
   "id": "615d80ec",
   "metadata": {
    "execution": {
     "iopub.execute_input": "2022-06-18T19:07:18.915515Z",
     "iopub.status.busy": "2022-06-18T19:07:18.914937Z",
     "iopub.status.idle": "2022-06-18T19:07:18.923720Z",
     "shell.execute_reply": "2022-06-18T19:07:18.922750Z"
    },
    "papermill": {
     "duration": 0.023347,
     "end_time": "2022-06-18T19:07:18.925531",
     "exception": false,
     "start_time": "2022-06-18T19:07:18.902184",
     "status": "completed"
    },
    "tags": []
   },
   "outputs": [
    {
     "data": {
      "text/plain": [
       "array([[   0,    0,    0, ..., 3276, 2032, 7427],\n",
       "       [   0,    0,    0, ..., 3205, 6273, 9974],\n",
       "       [   0,    0,    0, ..., 2032, 4958, 3899],\n",
       "       ...,\n",
       "       [   0,    0,    0, ..., 9917, 4032, 3217],\n",
       "       [   0,    0,    0, ..., 4034, 2061, 3486],\n",
       "       [   0,    0,    0, ..., 2032, 5539, 1466]], dtype=int32)"
      ]
     },
     "execution_count": 26,
     "metadata": {},
     "output_type": "execute_result"
    }
   ],
   "source": [
    "input_data"
   ]
  },
  {
   "cell_type": "code",
   "execution_count": 27,
   "id": "16146efe",
   "metadata": {
    "execution": {
     "iopub.execute_input": "2022-06-18T19:07:18.950495Z",
     "iopub.status.busy": "2022-06-18T19:07:18.949941Z",
     "iopub.status.idle": "2022-06-18T19:07:18.959547Z",
     "shell.execute_reply": "2022-06-18T19:07:18.958648Z"
    },
    "papermill": {
     "duration": 0.024512,
     "end_time": "2022-06-18T19:07:18.961704",
     "exception": false,
     "start_time": "2022-06-18T19:07:18.937192",
     "status": "completed"
    },
    "tags": []
   },
   "outputs": [],
   "source": [
    "from sklearn.model_selection import train_test_split\n",
    "\n",
    "x_train, x_test,y_train, y_test = train_test_split(input_data,output_data,test_size = 0.33,random_state=42)"
   ]
  },
  {
   "cell_type": "code",
   "execution_count": 28,
   "id": "b40c1201",
   "metadata": {
    "execution": {
     "iopub.execute_input": "2022-06-18T19:07:18.987548Z",
     "iopub.status.busy": "2022-06-18T19:07:18.986952Z",
     "iopub.status.idle": "2022-06-18T19:07:18.993304Z",
     "shell.execute_reply": "2022-06-18T19:07:18.992306Z"
    },
    "papermill": {
     "duration": 0.021302,
     "end_time": "2022-06-18T19:07:18.995249",
     "exception": false,
     "start_time": "2022-06-18T19:07:18.973947",
     "status": "completed"
    },
    "tags": []
   },
   "outputs": [
    {
     "data": {
      "text/plain": [
       "(10720,)"
      ]
     },
     "execution_count": 28,
     "metadata": {},
     "output_type": "execute_result"
    }
   ],
   "source": [
    "y_train.shape"
   ]
  },
  {
   "cell_type": "code",
   "execution_count": 29,
   "id": "710c0420",
   "metadata": {
    "execution": {
     "iopub.execute_input": "2022-06-18T19:07:19.020541Z",
     "iopub.status.busy": "2022-06-18T19:07:19.019928Z",
     "iopub.status.idle": "2022-06-18T19:11:16.718202Z",
     "shell.execute_reply": "2022-06-18T19:11:16.717482Z"
    },
    "papermill": {
     "duration": 237.713391,
     "end_time": "2022-06-18T19:11:16.720318",
     "exception": false,
     "start_time": "2022-06-18T19:07:19.006927",
     "status": "completed"
    },
    "tags": []
   },
   "outputs": [
    {
     "name": "stderr",
     "output_type": "stream",
     "text": [
      "2022-06-18 19:07:19.080299: I tensorflow/compiler/mlir/mlir_graph_optimization_pass.cc:185] None of the MLIR Optimization Passes are enabled (registered 2)\n"
     ]
    },
    {
     "name": "stdout",
     "output_type": "stream",
     "text": [
      "Epoch 1/10\n",
      "536/536 [==============================] - 27s 45ms/step - loss: 2.4615 - accuracy: 0.5046 - val_loss: 2.7725 - val_accuracy: 0.6511\n",
      "Epoch 2/10\n",
      "536/536 [==============================] - 24s 44ms/step - loss: 1.9922 - accuracy: 0.2694 - val_loss: 1.7918 - val_accuracy: 0.1259\n",
      "Epoch 3/10\n",
      "536/536 [==============================] - 23s 43ms/step - loss: 1.7918 - accuracy: 0.1394 - val_loss: 1.7918 - val_accuracy: 0.1259\n",
      "Epoch 4/10\n",
      "536/536 [==============================] - 23s 44ms/step - loss: 1.7918 - accuracy: 0.1394 - val_loss: 1.7918 - val_accuracy: 0.1259\n",
      "Epoch 5/10\n",
      "536/536 [==============================] - 24s 44ms/step - loss: 1.7918 - accuracy: 0.1394 - val_loss: 1.7918 - val_accuracy: 0.1259\n",
      "Epoch 6/10\n",
      "536/536 [==============================] - 24s 45ms/step - loss: 1.7918 - accuracy: 0.1394 - val_loss: 1.7918 - val_accuracy: 0.1259\n",
      "Epoch 7/10\n",
      "536/536 [==============================] - 23s 42ms/step - loss: 1.7918 - accuracy: 0.1394 - val_loss: 1.7918 - val_accuracy: 0.1259\n",
      "Epoch 8/10\n",
      "536/536 [==============================] - 23s 44ms/step - loss: 1.7918 - accuracy: 0.1394 - val_loss: 1.7918 - val_accuracy: 0.1259\n",
      "Epoch 9/10\n",
      "536/536 [==============================] - 24s 44ms/step - loss: 1.7918 - accuracy: 0.1394 - val_loss: 1.7918 - val_accuracy: 0.1259\n",
      "Epoch 10/10\n",
      "536/536 [==============================] - 23s 42ms/step - loss: 1.7918 - accuracy: 0.1394 - val_loss: 1.7918 - val_accuracy: 0.1259\n"
     ]
    },
    {
     "data": {
      "text/plain": [
       "<keras.callbacks.History at 0x7fc1bdc84c90>"
      ]
     },
     "execution_count": 29,
     "metadata": {},
     "output_type": "execute_result"
    }
   ],
   "source": [
    "model.fit(x_train,y_train,validation_data =(x_test,y_test),epochs =10,batch_size =20)"
   ]
  },
  {
   "cell_type": "code",
   "execution_count": 30,
   "id": "b3571536",
   "metadata": {
    "execution": {
     "iopub.execute_input": "2022-06-18T19:11:17.125846Z",
     "iopub.status.busy": "2022-06-18T19:11:17.125380Z",
     "iopub.status.idle": "2022-06-18T19:11:17.137436Z",
     "shell.execute_reply": "2022-06-18T19:11:17.136753Z"
    },
    "papermill": {
     "duration": 0.217246,
     "end_time": "2022-06-18T19:11:17.139704",
     "exception": false,
     "start_time": "2022-06-18T19:11:16.922458",
     "status": "completed"
    },
    "tags": []
   },
   "outputs": [],
   "source": [
    "#model testing \n",
    "def model_test(string):\n",
    "    words =[]\n",
    "    word = re.sub('[^a-zA-Z]', ' ',string)\n",
    "    word = word.lower()\n",
    "    word = word.split()\n",
    "    word = [ps.stem(text) for text in word if not text in stopwords.words('english') ]\n",
    "    \n",
    "    word = ' '.join(word)\n",
    "    words.append(word)\n",
    "    \n",
    "    one_hot_representation = [one_hot(value, 10000, filters='!\"#$%&()*+,-./:;<=>?@[\\\\]^_`{|}~\\t\\n', lower=True,) for value in words]\n",
    "    padding = pad_sequences(one_hot_representation,padding ='pre', maxlen = 30)\n",
    "    \n",
    "    model = Sequential()\n",
    "    model.add(Embedding(10000,40, input_length = 20))\n",
    "    model.add(Bidirectional(LSTM(100)))\n",
    "    model.add(Dense(6,activation ='relu'))\n",
    "    model.compile(loss='sparse_categorical_crossentropy',optimizer = 'adam',metrics = ['accuracy'])\n",
    "    \n",
    "    \n",
    "    prediction = np.argmax(model.predict(padding), axis=1)\n",
    "    \n",
    "    print(prediction)\n",
    "    \n",
    "    if prediction ==0:\n",
    "        print('person is angry')\n",
    "    elif prediction ==1:\n",
    "        print('person is in fear')\n",
    "    elif prediction ==2:\n",
    "        print('person is in joy')\n",
    "    elif prediction ==3:\n",
    "        print('person is in love')\n",
    "    elif prediction ==4:\n",
    "        print('person is sad')\n",
    "    else:\n",
    "        print('person is in surprise')\n",
    "        \n",
    "#text = str(input('enter input : '))\n",
    "#model_test(text)\n",
    "    \n",
    "\n"
   ]
  },
  {
   "cell_type": "code",
   "execution_count": 31,
   "id": "ea2494ee",
   "metadata": {
    "execution": {
     "iopub.execute_input": "2022-06-18T19:11:17.608954Z",
     "iopub.status.busy": "2022-06-18T19:11:17.608212Z",
     "iopub.status.idle": "2022-06-18T19:11:17.654711Z",
     "shell.execute_reply": "2022-06-18T19:11:17.653914Z"
    },
    "papermill": {
     "duration": 0.315808,
     "end_time": "2022-06-18T19:11:17.656923",
     "exception": false,
     "start_time": "2022-06-18T19:11:17.341115",
     "status": "completed"
    },
    "tags": []
   },
   "outputs": [],
   "source": [
    "model.save('emotion_detection.h5')"
   ]
  },
  {
   "cell_type": "code",
   "execution_count": null,
   "id": "3e1f01b4",
   "metadata": {
    "papermill": {
     "duration": 0.227699,
     "end_time": "2022-06-18T19:11:18.085381",
     "exception": false,
     "start_time": "2022-06-18T19:11:17.857682",
     "status": "completed"
    },
    "tags": []
   },
   "outputs": [],
   "source": []
  }
 ],
 "metadata": {
  "kernelspec": {
   "display_name": "Python 3",
   "language": "python",
   "name": "python3"
  },
  "language_info": {
   "codemirror_mode": {
    "name": "ipython",
    "version": 3
   },
   "file_extension": ".py",
   "mimetype": "text/x-python",
   "name": "python",
   "nbconvert_exporter": "python",
   "pygments_lexer": "ipython3",
   "version": "3.7.12"
  },
  "papermill": {
   "default_parameters": {},
   "duration": 309.649983,
   "end_time": "2022-06-18T19:11:21.703937",
   "environment_variables": {},
   "exception": null,
   "input_path": "__notebook__.ipynb",
   "output_path": "__notebook__.ipynb",
   "parameters": {},
   "start_time": "2022-06-18T19:06:12.053954",
   "version": "2.3.4"
  }
 },
 "nbformat": 4,
 "nbformat_minor": 5
}
